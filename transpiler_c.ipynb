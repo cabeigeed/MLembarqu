{
 "cells": [
  {
   "cell_type": "markdown",
   "metadata": {
    "id": "cmYhC6xbhQq-"
   },
   "source": [
    "### Récupération de la regression lineaire"
   ]
  },
  {
   "cell_type": "code",
   "execution_count": 58,
   "metadata": {
    "colab": {
     "base_uri": "https://localhost:8080/"
    },
    "id": "4BNO8RWqg-VJ",
    "outputId": "0db52042-fa1b-4160-cc3e-367144f377f5"
   },
   "outputs": [
    {
     "data": {
      "text/plain": [
       "LinearRegression()"
      ]
     },
     "execution_count": 58,
     "metadata": {},
     "output_type": "execute_result"
    }
   ],
   "source": [
    "import joblib\n",
    "import numpy as np\n",
    "from sklearn.linear_model import LinearRegression\n",
    "\n",
    "model_path = './regression.joblib'\n",
    "model = joblib.load(model_path)\n",
    "model"
   ]
  },
  {
   "cell_type": "markdown",
   "metadata": {
    "id": "M37wxwNAjezK"
   },
   "source": [
    "### Recuperation des coefficients"
   ]
  },
  {
   "cell_type": "code",
   "execution_count": 13,
   "metadata": {
    "colab": {
     "base_uri": "https://localhost:8080/"
    },
    "id": "hpDr2tbVhpqg",
    "outputId": "d8d538b6-32d2-4a7a-c7ea-53decf3c9cb4"
   },
   "outputs": [
    {
     "data": {
      "text/plain": [
       "([1000.0000000000005, 10000.000000000005, 19999.999999999993],\n",
       " -5.820766091346741e-11)"
      ]
     },
     "execution_count": 13,
     "metadata": {},
     "output_type": "execute_result"
    }
   ],
   "source": [
    "coeffs, biais = list(model.coef_), model.intercept_\n",
    "coeffs, biais"
   ]
  },
  {
   "cell_type": "markdown",
   "metadata": {
    "id": "eahaeZSGj0Ij"
   },
   "source": [
    "### Generation du code C"
   ]
  },
  {
   "cell_type": "code",
   "execution_count": 54,
   "metadata": {
    "id": "CcVCV8MEp6H2"
   },
   "outputs": [],
   "source": [
    "def get_linear_prediction_c_code(model):\n",
    "    C_code = \"float coefs[] = {\\n\\t\\t\"\n",
    "    for i in range(len(model.coef_)):\n",
    "        C_code += str(model.coef_[i])\n",
    "        if i < len(model.coef_) - 1:\n",
    "              C_code += ', '\n",
    "    C_code +=  ', ' + str(model.intercept_) + '\\n\\t};'\n",
    "    code = \"\"\"float prediction(float* features, int n_features)\n",
    "{\n",
    "\"\"\" + '\\t' + C_code + '\\n\\tfloat res = 0;\\n' + \"\"\"\\tfor (int i = 0; i < n_features; i++)\n",
    "\\t{\n",
    "\\t\\tres += features[i] * coefs[i];\n",
    "\\t}\n",
    "\\tres += coefs[\"\"\" + str(len(model.coef_))+ \"\"\"];\n",
    "\\treturn res;\n",
    "}\"\"\"\n",
    "    return code\n"
   ]
  },
  {
   "cell_type": "code",
   "execution_count": 51,
   "metadata": {
    "colab": {
     "base_uri": "https://localhost:8080/"
    },
    "id": "gcaSxgWCnn5W",
    "outputId": "852150a2-9fad-4267-90b7-65811e6bdea6"
   },
   "outputs": [
    {
     "name": "stdout",
     "output_type": "stream",
     "text": [
      "float prediction(float* features, int n_features)\n",
      "{\n",
      "\tfloat coefs[] = {\n",
      "\t\t1000.0000000000005, 10000.000000000005, 19999.999999999993, -5.820766091346741e-11\n",
      "\t};\n",
      "\tfloat res = 0;\n",
      "\tfor (int i = 0; i < n_features; i++)\n",
      "\t{\n",
      "\t\tres += features[i] * coefs[i];\n",
      "\t}\n",
      "\tres += coefs[3];\n",
      "\treturn to_return;\n",
      "}\n"
     ]
    }
   ],
   "source": [
    "print(get_linear_prediction_c_code(model))"
   ]
  },
  {
   "cell_type": "code",
   "execution_count": 34,
   "metadata": {
    "id": "rL5LR7iDkQxv"
   },
   "outputs": [],
   "source": [
    "def get_linear_c_main(static_data):\n",
    "    static_data_code = \"\\n\\tfloat features[] = {\\n\\t\\t\"\n",
    "    for i in range(len(static_data)):\n",
    "        static_data_code += str(static_data[i])\n",
    "        if i < len(static_data) - 1:\n",
    "            static_data_code += ', '\n",
    "    static_data_code += '\\n\\t};'\n",
    "\n",
    "  \n",
    "    code = \"\"\"int main()\n",
    "{\"\"\" + static_data_code + \"\"\"\n",
    "\\tprintf(\"%f\", prediction(features, \"\"\" + str(len(static_data)) + '));\\n\\treturn 0;' + \"\"\" \n",
    "}\n",
    "  \"\"\"\n",
    "    return code"
   ]
  },
  {
   "cell_type": "code",
   "execution_count": 35,
   "metadata": {
    "colab": {
     "base_uri": "https://localhost:8080/"
    },
    "id": "U8QJseUqsRDK",
    "outputId": "62587be2-fcb1-4ef4-e08b-871a316802fa"
   },
   "outputs": [
    {
     "name": "stdout",
     "output_type": "stream",
     "text": [
      "int main()\n",
      "{\n",
      "\tfloat features[] = {\n",
      "\t\t1, 2, 3\n",
      "\t};\n",
      "\tprintf(\"%f\", prediction(features, 3));\n",
      "\treturn 0; \n",
      "}\n",
      "  \n"
     ]
    }
   ],
   "source": [
    "print(get_linear_c_main([1, 2, 3]))"
   ]
  },
  {
   "cell_type": "markdown",
   "metadata": {
    "id": "i_FKp5S-7tDM"
   },
   "source": [
    "### Génération du fichier C"
   ]
  },
  {
   "cell_type": "code",
   "execution_count": 59,
   "metadata": {
    "id": "coUsT4BRsXq6"
   },
   "outputs": [],
   "source": [
    "def get_file(model, features):\n",
    "    file = open(\"./code.c\", \"w+\")\n",
    "    file.write(\"#include <stddef.h>\\n#include <stdio.h>\\n\" +get_linear_prediction_c_code(model) + '\\n' + get_linear_c_main(features))\n",
    "    file.close()\n",
    "    print(\"gcc code.c -o prediction\")\n"
   ]
  },
  {
   "cell_type": "code",
   "execution_count": 60,
   "metadata": {
    "id": "6IAycX904AB8"
   },
   "outputs": [],
   "source": [
    "X = np.array([[8,1], [15, 20], [7, 6], [3, 4]])\n",
    "y = np.dot(X, np.array([6, -1])) + 3.5\n",
    "reg = LinearRegression().fit(X, y)"
   ]
  },
  {
   "cell_type": "code",
   "execution_count": 61,
   "metadata": {
    "colab": {
     "base_uri": "https://localhost:8080/"
    },
    "id": "4eyVVZlT4KkC",
    "outputId": "1e0a15bb-9a31-4db5-ad7e-d8556460e389"
   },
   "outputs": [
    {
     "name": "stdout",
     "output_type": "stream",
     "text": [
      "gcc code.c -o prediction\n"
     ]
    }
   ],
   "source": [
    "get_file(reg, [3, 5])"
   ]
  },
  {
   "cell_type": "code",
   "execution_count": 62,
   "metadata": {
    "colab": {
     "base_uri": "https://localhost:8080/"
    },
    "id": "Sl5AO60c4jZr",
    "outputId": "f3319aa6-26ab-410d-9869-5c6092ca9d9c"
   },
   "outputs": [
    {
     "data": {
      "text/plain": [
       "array([13.5])"
      ]
     },
     "execution_count": 62,
     "metadata": {},
     "output_type": "execute_result"
    }
   ],
   "source": [
    "reg.predict([[3, 8]])"
   ]
  },
  {
   "cell_type": "markdown",
   "metadata": {
    "id": "FoqRjzrI7SuV"
   },
   "source": [
    "En executant le code C généré, on obtient aussi 13.5."
   ]
  },
  {
   "cell_type": "code",
   "execution_count": 63,
   "metadata": {
    "colab": {
     "base_uri": "https://localhost:8080/"
    },
    "id": "yvIkQn_q8EXp",
    "outputId": "21e0ebcd-b1b8-47bf-b2e6-627a68b2c426"
   },
   "outputs": [
    {
     "name": "stdout",
     "output_type": "stream",
     "text": [
      "gcc code.c -o prediction\n"
     ]
    }
   ],
   "source": [
    "get_file(reg, [3, 8])"
   ]
  },
  {
   "cell_type": "code",
   "execution_count": null,
   "metadata": {
    "id": "NroPGWAHaveT"
   },
   "outputs": [],
   "source": []
  }
 ],
 "metadata": {
  "colab": {
   "collapsed_sections": [
    "cmYhC6xbhQq-"
   ],
   "name": "transpiler_un_model_en_c.ipynb",
   "provenance": []
  },
  "kernelspec": {
   "display_name": "Python 3",
   "language": "python",
   "name": "python3"
  },
  "language_info": {
   "codemirror_mode": {
    "name": "ipython",
    "version": 3
   },
   "file_extension": ".py",
   "mimetype": "text/x-python",
   "name": "python",
   "nbconvert_exporter": "python",
   "pygments_lexer": "ipython3",
   "version": "3.8.5"
  }
 },
 "nbformat": 4,
 "nbformat_minor": 1
}
